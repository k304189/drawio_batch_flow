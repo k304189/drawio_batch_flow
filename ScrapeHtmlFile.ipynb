{
  "cells": [
    {
      "cell_type": "markdown",
      "metadata": {
        "id": "2uvWFOTyP2mf"
      },
      "source": [
        "#０．初期処理"
      ]
    },
    {
      "cell_type": "code",
      "execution_count": null,
      "metadata": {
        "id": "eUPR1SNfPBro"
      },
      "outputs": [],
      "source": [
        "## ライブラリインポート\n",
        "from google.colab import drive\n",
        "from bs4 import BeautifulSoup\n",
        "import pandas as pd\n",
        "import os\n",
        "import glob\n",
        "import datetime\n",
        "import pytz\n",
        "import shutil\n",
        "\n",
        "ROOT_FOLDER_PATH = '/content/drive/MyDrive/01.プログラミング/scrape'\n",
        "ROOT_FINISH_HTML_FOLDER_PATH = f\"{ROOT_FOLDER_PATH}/処理完了\"\n",
        "\n",
        "today_finish_folder_name = datetime.datetime.now(pytz.timezone(\"Asia/Tokyo\")).strftime(\"%Y%m%d\")\n",
        "today_finish_folder_path = f\"{ROOT_FINISH_HTML_FOLDER_PATH}/{today_finish_folder_name}\""
      ]
    },
    {
      "cell_type": "code",
      "source": [
        "# ドライブマウント\n",
        "drive.mount('/content/drive')"
      ],
      "metadata": {
        "colab": {
          "base_uri": "https://localhost:8080/"
        },
        "id": "ROrOawzgj8xB",
        "outputId": "3121d757-19ea-4e0c-ab6b-aefa69e0550c"
      },
      "execution_count": null,
      "outputs": [
        {
          "output_type": "stream",
          "name": "stdout",
          "text": [
            "Mounted at /content/drive\n"
          ]
        }
      ]
    },
    {
      "cell_type": "markdown",
      "source": [
        "## ０－１．関数"
      ],
      "metadata": {
        "id": "fInVSju1uDJc"
      }
    },
    {
      "cell_type": "code",
      "source": [
        "def read_file(read_file_path: str) -> str:\n",
        "  \"\"\"\n",
        "  引数のファイルを読み込み、そのファイルの文字列を返す関数\n",
        "  \"\"\"\n",
        "  file_str = \"\"\n",
        "  with open(read_file_path, \"r\") as f:\n",
        "    file_str = f.read()\n",
        "\n",
        "  return file_str"
      ],
      "metadata": {
        "id": "pcGv35WjuMbg"
      },
      "execution_count": null,
      "outputs": []
    },
    {
      "cell_type": "code",
      "source": [
        "def scrape_html(read_html_name: str, file_index: int, read_html_doc: str) -> dict:\n",
        "  \"\"\"\n",
        "  引数のHTMLテキストから特定の属性値を抽出し、dict型に変換する関数\n",
        "  \"\"\"\n",
        "  soup = BeautifulSoup(read_html_doc, 'html.parser')\n",
        "  tags = soup.find_all(\"a\")\n",
        "\n",
        "  anchor_tag_dicts = []\n",
        "\n",
        "  for tag in tags:\n",
        "    print(str(tag))\n",
        "    print(type(tag.string))\n",
        "    anchor_tag_dicts.append({\n",
        "        \"read_html\": os.path.basename(read_html_name),\n",
        "        \"file_index\": file_index,\n",
        "        \"href\": tag.get(\"href\"),\n",
        "        \"ga_link\": tag.get(\"ga_link\"),\n",
        "        \"data_ga_event_category\": tag.get(\"data-event_category\"),\n",
        "        \"data_ua_event\": tag.get(\"data-ua-event\")\n",
        "    })\n",
        "\n",
        "  return anchor_tag_dicts"
      ],
      "metadata": {
        "id": "PvwFDGiVuvDX"
      },
      "execution_count": null,
      "outputs": []
    },
    {
      "cell_type": "markdown",
      "source": [
        "# １．ファイル→BigQueryへロード"
      ],
      "metadata": {
        "id": "T7zkv9NUnKHO"
      }
    },
    {
      "cell_type": "code",
      "source": [
        "# 対象ファイル読み込み\n",
        "target_html_file_paths = glob.glob(f\"{ROOT_FOLDER_PATH}/*.html\")\n",
        "\n",
        "os.makedirs(today_finish_folder_path, exist_ok=True)\n",
        "anchor_tag_dicts = []\n",
        "\n",
        "for file_index in range(len(target_html_file_paths)):\n",
        "  read_html_path = target_html_file_paths[file_index]\n",
        "  try :\n",
        "    # html読込\n",
        "    read_html_doc = read_file(read_html_path)\n",
        "\n",
        "    # HTMLから特定の要素をスクレイプ\n",
        "    anchor_tag_dicts.extend(scrape_html(\n",
        "        os.path.basename(read_html_path),\n",
        "        file_index,\n",
        "        read_html_doc\n",
        "    ))\n",
        "\n",
        "    # 読み込み後のHTMLは完了フォルダに移動\n",
        "    # shutil.move(read_html_path, today_finish_folder_path)\n",
        "  except Exception as e:\n",
        "    pass"
      ],
      "metadata": {
        "id": "kw9tN_XjnRRB"
      },
      "execution_count": null,
      "outputs": []
    },
    {
      "cell_type": "code",
      "source": [
        "anchor_tag_df = pd.DataFrame(anchor_tag_dicts)"
      ],
      "metadata": {
        "id": "iNAhGbGu6gOA"
      },
      "execution_count": null,
      "outputs": []
    }
  ],
  "metadata": {
    "colab": {
      "provenance": []
    },
    "kernelspec": {
      "display_name": "Python 3",
      "name": "python3"
    },
    "language_info": {
      "name": "python"
    }
  },
  "nbformat": 4,
  "nbformat_minor": 0
}
